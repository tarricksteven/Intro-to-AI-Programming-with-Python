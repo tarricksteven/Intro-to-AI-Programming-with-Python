{
 "cells": [
  {
   "cell_type": "markdown",
   "metadata": {},
   "source": [
    "Just like with NumPy ndarrays, we can perform element-wise arithmetic operations on Pandas Series. In this lesson we will look at arithmetic operations between Pandas Series and single numbers. Let's create a new Pandas Series that will hold a grocery list of just fruits."
   ]
  },
  {
   "cell_type": "code",
   "execution_count": 8,
   "metadata": {},
   "outputs": [
    {
     "name": "stdout",
     "output_type": "stream",
     "text": [
      "apples      10\n",
      "organges     6\n",
      "bananas      3\n",
      "dtype: int64\n",
      "\n",
      "\n"
     ]
    }
   ],
   "source": [
    "import pandas as pd\n",
    "\n",
    "fruits = pd.Series(data=[10,6,3], index=['apples', 'organges', 'bananas'])\n",
    "\n",
    "print(fruits)\n",
    "print('\\n')"
   ]
  },
  {
   "cell_type": "markdown",
   "metadata": {},
   "source": [
    "We can now modify the data in fruits by performing basic arithmetic operations. Let's see some examples"
   ]
  },
  {
   "cell_type": "code",
   "execution_count": 9,
   "metadata": {},
   "outputs": [
    {
     "name": "stdout",
     "output_type": "stream",
     "text": [
      "Original grocery list of fruits:\n",
      " apples      10\n",
      "organges     6\n",
      "bananas      3\n",
      "dtype: int64\n",
      "\n",
      "\n",
      "fruit +2:\n",
      " apples      12\n",
      "organges     8\n",
      "bananas      5\n",
      "dtype: int64\n",
      "\n",
      "\n",
      "fruit -2:\n",
      " apples      8\n",
      "organges    4\n",
      "bananas     1\n",
      "dtype: int64\n",
      "\n",
      "\n",
      "fruits * 2:\n",
      " apples      20\n",
      "organges    12\n",
      "bananas      6\n",
      "dtype: int64\n",
      "\n",
      "\n",
      "fruits / 2:\n",
      " apples      5.0\n",
      "organges    3.0\n",
      "bananas     1.5\n",
      "dtype: float64\n",
      "\n",
      "\n"
     ]
    }
   ],
   "source": [
    "print('Original grocery list of fruits:\\n', fruits)\n",
    "print('\\n')\n",
    "\n",
    "# We perform basic element-wise operations using arithmetic symbols\n",
    "print('fruit +2:\\n', fruits + 2) # We add to 2 to each item in fruits\n",
    "print('\\n')\n",
    "print('fruit -2:\\n', fruits - 2) # We subtract 2 to each item in fruits\n",
    "print('\\n')\n",
    "print('fruits * 2:\\n', fruits * 2) # We multiply each item in fruits by 2\n",
    "print('\\n')\n",
    "print('fruits / 2:\\n', fruits / 2) # We divide each item in fruits by 2\n",
    "print('\\n')"
   ]
  },
  {
   "cell_type": "markdown",
   "metadata": {},
   "source": [
    "You can also apply mathematical functions from NumPy, such as sqrt(x), to all elements of a Pandas Series."
   ]
  },
  {
   "cell_type": "code",
   "execution_count": 6,
   "metadata": {},
   "outputs": [
    {
     "name": "stdout",
     "output_type": "stream",
     "text": [
      "Original grocery list of fruits:\n",
      " apple      10\n",
      "organes     6\n",
      "bananas     3\n",
      "dtype: int64\n",
      "\n",
      "\n",
      "EXP(X) = \n",
      " apple      22026.465795\n",
      "organes      403.428793\n",
      "bananas       20.085537\n",
      "dtype: float64\n",
      "\n",
      "\n",
      "SQRT(X) = \n",
      " apple      3.162278\n",
      "organes    2.449490\n",
      "bananas    1.732051\n",
      "dtype: float64\n",
      "\n",
      "\n",
      "POW(X,2) = \n",
      " apple      100\n",
      "organes     36\n",
      "bananas      9\n",
      "dtype: int64\n",
      "\n",
      "\n"
     ]
    }
   ],
   "source": [
    "import numpy as np\n",
    "\n",
    "print('Original grocery list of fruits:\\n', fruits)\n",
    "print('\\n')\n",
    "\n",
    "# We apply different mathematical functions to all elements of fruits\n",
    "print('EXP(X) = \\n', np.exp(fruits))\n",
    "print('\\n')\n",
    "print('SQRT(X) = \\n', np.sqrt(fruits))\n",
    "print('\\n')\n",
    "print('POW(X,2) = \\n', np.power(fruits, 2)) # We raise all elements of fruits to the power of 2\n",
    "print('\\n')"
   ]
  },
  {
   "cell_type": "markdown",
   "metadata": {},
   "source": [
    "Pandas also allows us to only apply arithmetic operations on selected items in our fruits grocery list. Let's see some examples"
   ]
  },
  {
   "cell_type": "code",
   "execution_count": 10,
   "metadata": {},
   "outputs": [
    {
     "name": "stdout",
     "output_type": "stream",
     "text": [
      "Original grocery list of fruits:\n",
      " apples      10\n",
      "organges     6\n",
      "bananas      3\n",
      "dtype: int64\n",
      "\n",
      "\n",
      "Amount of bananas + 2 = 5\n",
      "\n",
      "\n",
      "Amount of apples - 2 = 8\n",
      "\n",
      "\n",
      "We double the amount of apples and oranges:\n",
      " apples     20.0\n",
      "oranges     NaN\n",
      "dtype: float64\n",
      "\n",
      "\n",
      "We half the amount of apples and oranges:\n",
      " apples     5.0\n",
      "oranges    NaN\n",
      "dtype: float64\n",
      "\n",
      "\n"
     ]
    }
   ],
   "source": [
    "print('Original grocery list of fruits:\\n', fruits)\n",
    "print('\\n')\n",
    "\n",
    "# We add 2 only to the bananas\n",
    "print('Amount of bananas + 2 =', fruits['bananas'] + 2)\n",
    "print('\\n')\n",
    "\n",
    "# We subtract 2 from apples\n",
    "print('Amount of apples - 2 =', fruits.iloc[0] -2)\n",
    "print('\\n')\n",
    "\n",
    "# We multiply apples and oranges by 2\n",
    "print('We double the amount of apples and oranges:\\n', fruits[['apples', 'oranges']] * 2)\n",
    "print('\\n')\n",
    "\n",
    "# We divide apples and oranges by 2\n",
    "print('We half the amount of apples and oranges:\\n', fruits.loc[['apples', 'oranges']] / 2)\n",
    "print('\\n')"
   ]
  }
 ],
 "metadata": {
  "kernelspec": {
   "display_name": "Python 3",
   "language": "python",
   "name": "python3"
  },
  "language_info": {
   "codemirror_mode": {
    "name": "ipython",
    "version": 3
   },
   "file_extension": ".py",
   "mimetype": "text/x-python",
   "name": "python",
   "nbconvert_exporter": "python",
   "pygments_lexer": "ipython3",
   "version": "3.6.3"
  }
 },
 "nbformat": 4,
 "nbformat_minor": 2
}
