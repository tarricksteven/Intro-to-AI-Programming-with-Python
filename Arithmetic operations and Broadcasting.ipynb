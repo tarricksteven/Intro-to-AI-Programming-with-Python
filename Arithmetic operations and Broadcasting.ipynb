{
 "cells": [
  {
   "cell_type": "markdown",
   "metadata": {},
   "source": [
    "We have reached the last lesson in this Introduction to NumPy. In this last lesson we will see how NumPy does arithmetic operations on ndarrays. NumPy allows element-wise operations on ndarrays as well as matrix operations. In this lesson we will only be looking at element-wise operations on ndarrays. In order to do element-wise operations, NumPy sometimes uses something called Broadcasting. Broadcasting is the term used to describe how NumPy handles element-wise arithmetic operations with ndarrays of different shapes. For example, broadcasting is used implicitly when doing arithmetic operations between scalars and ndarrays.\n",
    "\n",
    "Let's start by doing element-wise addition, subtraction, multiplication, and division, between ndarrays. To do this, NumPy provides a functional approach, where we use functions such as np.add(), or by using arithmetic symbols, such as +, that resembles more how we write mathematical equations. Both forms will do the same operation, the only difference is that if you use the function approach, the functions usually have options that you can tweak using keywords. It is important to note that when performing element-wise operations, the shapes of the ndarrays being operated on, must have the same shape or be broadcastable. We'll explain more about this later in this lesson. Let's start by performing element-wise arithmetic operations on rank 1 ndarrays:"
   ]
  },
  {
   "cell_type": "code",
   "execution_count": 1,
   "metadata": {
    "collapsed": true
   },
   "outputs": [],
   "source": [
    "import numpy as np"
   ]
  },
  {
   "cell_type": "code",
   "execution_count": 3,
   "metadata": {},
   "outputs": [
    {
     "name": "stdout",
     "output_type": "stream",
     "text": [
      "x =  [1 2 3 4]\n",
      "\n",
      "\n",
      "y =  [ 5.5  6.5  7.5  8.5]\n",
      "\n",
      "\n",
      "x + y =  [  6.5   8.5  10.5  12.5]\n",
      "add(x, y) =  [  6.5   8.5  10.5  12.5]\n",
      "\n",
      "\n",
      "X - y =  [-4.5 -4.5 -4.5 -4.5]\n",
      "subtract(x, y) =  [-4.5 -4.5 -4.5 -4.5]\n",
      "\n",
      "\n",
      "x * y =  [  5.5  13.   22.5  34. ]\n",
      "multiply(x, y) =  [  5.5  13.   22.5  34. ]\n",
      "\n",
      "\n",
      "x / y =  [ 0.18181818  0.30769231  0.4         0.47058824]\n",
      "divide(x, y) =  [ 0.18181818  0.30769231  0.4         0.47058824]\n",
      "\n",
      "\n"
     ]
    }
   ],
   "source": [
    "x = np.array([1,2,3,4])\n",
    "y = np.array([5.5,6.5,7.5,8.5])\n",
    "print('x = ', x)\n",
    "print('\\n')\n",
    "print('y = ', y)\n",
    "print('\\n')\n",
    "\n",
    "# We perfrom basic element-wise operations using arithmetic symbols and functions\n",
    "print('x + y = ', x+y)\n",
    "print('add(x, y) = ', np.add(x, y))\n",
    "print('\\n')\n",
    "print('X - y = ', x - y)\n",
    "print('subtract(x, y) = ', np.subtract(x, y))\n",
    "print('\\n')\n",
    "print('x * y = ', x * y)\n",
    "print('multiply(x, y) = ', np.multiply(x, y))\n",
    "print('\\n')\n",
    "print('x / y = ', x / y)\n",
    "print('divide(x, y) = ', np.divide(x, y))\n",
    "print('\\n')"
   ]
  },
  {
   "cell_type": "markdown",
   "metadata": {},
   "source": [
    "We can also perform the same element-wise arithmetic operations on rank 2 ndarrays. Again, remember that in order to do these operations the shapes of the ndarrays being operated on, must have the same shape or be broadcastable."
   ]
  },
  {
   "cell_type": "code",
   "execution_count": 5,
   "metadata": {},
   "outputs": [
    {
     "name": "stdout",
     "output_type": "stream",
     "text": [
      "X = \n",
      " [[1 2]\n",
      " [3 4]]\n",
      "\n",
      "\n",
      "Y = \n",
      " [[ 5.5  6.5]\n",
      " [ 7.5  8.5]]\n",
      "\n",
      "\n",
      "X + Y = \n",
      " [[  6.5   8.5]\n",
      " [ 10.5  12.5]]\n",
      "add(X,Y) = \n",
      " [[  6.5   8.5]\n",
      " [ 10.5  12.5]]\n",
      "\n",
      "\n",
      "X - Y = \n",
      " [[-4.5 -4.5]\n",
      " [-4.5 -4.5]]\n",
      "subtract(X,Y) = \n",
      " [[-4.5 -4.5]\n",
      " [-4.5 -4.5]]\n",
      "\n",
      "\n",
      "X * Y = \n",
      " [[  5.5  13. ]\n",
      " [ 22.5  34. ]]\n",
      "multiply(X,Y) = \n",
      " [[  5.5  13. ]\n",
      " [ 22.5  34. ]]\n",
      "\n",
      "\n",
      "X / Y = \n",
      " [[ 0.18181818  0.30769231]\n",
      " [ 0.4         0.47058824]]\n",
      "divide(X,Y) = \n",
      " [[ 0.18181818  0.30769231]\n",
      " [ 0.4         0.47058824]]\n",
      "\n",
      "\n"
     ]
    }
   ],
   "source": [
    "X = np.array([1,2,3,4]).reshape(2,2)\n",
    "Y = np.array([5.5,6.5,7.5,8.5]).reshape(2,2)\n",
    "print('X = \\n', X)\n",
    "print('\\n')\n",
    "print('Y = \\n', Y)\n",
    "print('\\n')\n",
    "\n",
    "# We pefrom basic element-wise operations using arithmetic symbols and functions \n",
    "print('X + Y = \\n', X + Y)\n",
    "print('add(X,Y) = \\n', np.add(X,Y))\n",
    "print('\\n')\n",
    "print('X - Y = \\n', X - Y)\n",
    "print('subtract(X,Y) = \\n', np.subtract(X,Y))\n",
    "print('\\n')\n",
    "print('X * Y = \\n', X * Y)\n",
    "print('multiply(X,Y) = \\n', np.multiply(X,Y))\n",
    "print('\\n')\n",
    "print('X / Y = \\n', X / Y)\n",
    "print('divide(X,Y) = \\n', np.divide(X,Y))\n",
    "print('\\n')"
   ]
  },
  {
   "cell_type": "markdown",
   "metadata": {},
   "source": [
    "We can also apply mathematical functions, such as sqrt(x), to all elements of an ndarray at once."
   ]
  },
  {
   "cell_type": "code",
   "execution_count": 8,
   "metadata": {},
   "outputs": [
    {
     "name": "stdout",
     "output_type": "stream",
     "text": [
      "x =  [1 2 3 4]\n",
      "\n",
      "\n",
      "EXP(x) =  [  2.71828183   7.3890561   20.08553692  54.59815003]\n",
      "\n",
      "\n",
      "SQRT(x) = [ 1.          1.41421356  1.73205081  2.        ]\n",
      "\n",
      "\n",
      "POW(x, 2) = [ 1  4  9 16]\n",
      "\n",
      "\n"
     ]
    }
   ],
   "source": [
    "x = np.array([1,2,3,4])\n",
    "print('x = ', x)\n",
    "print('\\n')\n",
    "\n",
    "# We apply different mathematical functions to all elements of x\n",
    "print('EXP(x) = ', np.exp(x))\n",
    "print('\\n')\n",
    "print('SQRT(x) =', np.sqrt(x))\n",
    "print('\\n')\n",
    "print('POW(x, 2) =', np.power(x, 2)) # We raise all elements to the power of 2\n",
    "print('\\n')"
   ]
  },
  {
   "cell_type": "markdown",
   "metadata": {},
   "source": [
    "Another great feature of NumPy is that it has a wide variety of statistical functions. Statistical functions provide us with statistical information about the elements in an ndarray. Let's see some examples:"
   ]
  },
  {
   "cell_type": "code",
   "execution_count": 9,
   "metadata": {},
   "outputs": [
    {
     "name": "stdout",
     "output_type": "stream",
     "text": [
      "X = \n",
      " [[1 2]\n",
      " [3 4]]\n",
      "\n",
      "\n",
      "Average of all elements in X: 2.5\n",
      "Average of all elements in the columns of X: [ 2.  3.]\n",
      "Average of all elements in the rows of X: [ 1.5  3.5]\n",
      "\n",
      "\n",
      "Sum of all elements in X: 10\n",
      "Sum of all elements in the columns of X: [4 6]\n",
      "Sum of all elements in the rows of X: [3 7]\n",
      "\n",
      "\n",
      "Standard Deviation of all elements in X: 1.11803398875\n",
      "Standard Deviation of all elements in the columns of X: [ 1.  1.]\n",
      "Standard Deviation of all elements in the rows of X: [ 0.5  0.5]\n",
      "\n",
      "\n",
      "Median of all elements in X: 2.5\n",
      "Median of all elements in the columns of X: [ 2.  3.]\n",
      "Median of all elements in the rows of X: [ 1.5  3.5]\n",
      "\n",
      "\n",
      "Maximum value of all elements in X: 4\n",
      "Maximum value of all elements in the columns of X: [3 4]\n",
      "Maximum value of all elements in the rows of X: [2 4]\n",
      "\n",
      "\n",
      "Maximum value of all elements in X: 1\n",
      "Maximum value of all elements in the columns of X: [1 2]\n",
      "Maximum value of all elements in the rows of X: [1 3]\n",
      "\n",
      "\n"
     ]
    }
   ],
   "source": [
    "X = np.array([[1,2], [3,4]])\n",
    "print('X = \\n', X)\n",
    "print('\\n')\n",
    "\n",
    "print('Average of all elements in X:', X.mean())\n",
    "print('Average of all elements in the columns of X:', X.mean(axis=0))\n",
    "print('Average of all elements in the rows of X:', X.mean(axis=1))\n",
    "print('\\n')\n",
    "print('Sum of all elements in X:', X.sum())\n",
    "print('Sum of all elements in the columns of X:', X.sum(axis=0))\n",
    "print('Sum of all elements in the rows of X:', X.sum(axis=1))\n",
    "print('\\n')\n",
    "print('Standard Deviation of all elements in X:', X.std())\n",
    "print('Standard Deviation of all elements in the columns of X:', X.std(axis=0))\n",
    "print('Standard Deviation of all elements in the rows of X:', X.std(axis=1))\n",
    "print('\\n')\n",
    "print('Median of all elements in X:', np.median(X))\n",
    "print('Median of all elements in the columns of X:', np.median(X,axis=0))\n",
    "print('Median of all elements in the rows of X:', np.median(X,axis=1))\n",
    "print('\\n')\n",
    "print('Maximum value of all elements in X:', X.max())\n",
    "print('Maximum value of all elements in the columns of X:', X.max(axis=0))\n",
    "print('Maximum value of all elements in the rows of X:', X.max(axis=1))\n",
    "print('\\n')\n",
    "print('Maximum value of all elements in X:', X.min())\n",
    "print('Maximum value of all elements in the columns of X:', X.min(axis=0))\n",
    "print('Maximum value of all elements in the rows of X:', X.min(axis=1))\n",
    "print('\\n')"
   ]
  },
  {
   "cell_type": "markdown",
   "metadata": {},
   "source": [
    "Finally, let's see how NumPy can add single numbers to all the elements of an ndarray without the use of complicated loops."
   ]
  },
  {
   "cell_type": "code",
   "execution_count": 11,
   "metadata": {},
   "outputs": [
    {
     "name": "stdout",
     "output_type": "stream",
     "text": [
      "X = \n",
      " [[1 2]\n",
      " [3 4]]\n",
      "\n",
      "\n",
      "3 * X = \n",
      " [[ 3  6]\n",
      " [ 9 12]]\n",
      "\n",
      "\n",
      "3 + X = \n",
      " [[4 5]\n",
      " [6 7]]\n",
      "\n",
      "\n",
      "X - 3 = \n",
      " [[-2 -1]\n",
      " [ 0  1]]\n",
      "\n",
      "\n",
      "X / 3 = \n",
      " [[ 0.33333333  0.66666667]\n",
      " [ 1.          1.33333333]]\n"
     ]
    }
   ],
   "source": [
    "X = np.array([[1,2], [3,4]])\n",
    "print('X = \\n', X)\n",
    "print('\\n')\n",
    "\n",
    "print('3 * X = \\n', 3 * X)\n",
    "print('\\n')\n",
    "print('3 + X = \\n', 3 + X)\n",
    "print('\\n')\n",
    "print('X - 3 = \\n', X - 3)\n",
    "print('\\n')\n",
    "print('X / 3 = \\n', X / 3)"
   ]
  },
  {
   "cell_type": "raw",
   "metadata": {},
   "source": [
    "In the examples above, NumPy is working behind the scenes to broadcast 3 along the ndarray so that they have the same shape. This allows us to add 3 to each element of X with just one line of code."
   ]
  },
  {
   "cell_type": "markdown",
   "metadata": {},
   "source": [
    "Subject to certain constraints, Numpy can do the same for two ndarrays of different shapes, as we can see below."
   ]
  },
  {
   "cell_type": "code",
   "execution_count": 12,
   "metadata": {},
   "outputs": [
    {
     "name": "stdout",
     "output_type": "stream",
     "text": [
      "x =  [1 2 3]\n",
      "\n",
      "\n",
      "Y = \n",
      " [[1 2 3]\n",
      " [4 5 6]\n",
      " [7 8 9]]\n",
      "\n",
      "\n",
      "Z = \n",
      " [[1]\n",
      " [2]\n",
      " [3]]\n",
      "x + Y = \n",
      " [[ 2  4  6]\n",
      " [ 5  7  9]\n",
      " [ 8 10 12]]\n",
      "\n",
      "\n",
      "Z + Y = \n",
      " [[ 2  3  4]\n",
      " [ 6  7  8]\n",
      " [10 11 12]]\n"
     ]
    }
   ],
   "source": [
    "x = np.array([1,2,3])\n",
    "Y = np.array([[1,2,3],[4,5,6],[7,8,9]])\n",
    "Z = np.array([1,2,3]).reshape(3,1)\n",
    "print('x = ', x)\n",
    "print('\\n')\n",
    "print('Y = \\n', Y)\n",
    "print('\\n')\n",
    "print('Z = \\n', Z)\n",
    "\n",
    "print('x + Y = \\n', x + Y)\n",
    "print('\\n')\n",
    "print('Z + Y = \\n', Z + Y)"
   ]
  },
  {
   "cell_type": "raw",
   "metadata": {},
   "source": [
    "As before, NumPy is able to add 1 x 3 and 3 x 1 ndarrays to 3 x 3 ndarrays by broadcasting the smaller ndarrays along the big ndarray so that they have compatible shapes. In general, NumPy can do this provided that the smaller ndarray, such as the 1 x 3 ndarray in our example, can be expanded to the shape of the larger ndarray in such a way that the resulting broadcast is unambiguous."
   ]
  }
 ],
 "metadata": {
  "kernelspec": {
   "display_name": "Python 3",
   "language": "python",
   "name": "python3"
  },
  "language_info": {
   "codemirror_mode": {
    "name": "ipython",
    "version": 3
   },
   "file_extension": ".py",
   "mimetype": "text/x-python",
   "name": "python",
   "nbconvert_exporter": "python",
   "pygments_lexer": "ipython3",
   "version": "3.6.3"
  }
 },
 "nbformat": 4,
 "nbformat_minor": 2
}
