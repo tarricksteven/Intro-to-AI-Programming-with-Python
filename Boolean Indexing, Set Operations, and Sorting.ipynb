{
 "cells": [
  {
   "cell_type": "markdown",
   "metadata": {},
   "source": [
    "Up to now we have seen how to make slices and select elements of an ndarray using indices. This is useful when we know the exact indices of the elements we want to select. However, there are many situations in which we don't know the indices of the elements we want to select. For example, suppose we have a 10,000 x 10,000 ndarray of random integers ranging from 1 to 15,000 and we only want to select those integers that are less than 20. Boolean indexing can help us in these cases, by allowing us select elements using logical arguments instead of explicit indices. Let's see some examples:"
   ]
  },
  {
   "cell_type": "code",
   "execution_count": 1,
   "metadata": {
    "collapsed": true
   },
   "outputs": [],
   "source": [
    "import numpy as np"
   ]
  },
  {
   "cell_type": "code",
   "execution_count": 5,
   "metadata": {},
   "outputs": [
    {
     "name": "stdout",
     "output_type": "stream",
     "text": [
      "Original X = \n",
      " [[ 0  1  2  3  4]\n",
      " [ 5  6  7  8  9]\n",
      " [10 11 12 13 14]\n",
      " [15 16 17 18 19]\n",
      " [20 21 22 23 24]]\n",
      "\n",
      "\n",
      "The elements in X that are greater than 10: [11 12 13 14 15 16 17 18 19 20 21 22 23 24]\n",
      "The elements in X that are less than or equal to 7: [0 1 2 3 4 5 6 7]\n",
      "The elements in X that are between 10 and 17: [11 12 13 14 15 16]\n",
      "X = \n",
      " [[ 0  1  2  3  4]\n",
      " [ 5  6  7  8  9]\n",
      " [10 -1 -1 -1 -1]\n",
      " [-1 -1 17 18 19]\n",
      " [20 21 22 23 24]]\n",
      "\n",
      "\n"
     ]
    }
   ],
   "source": [
    "X = np.arange(25).reshape(5,5)\n",
    "print('Original X = \\n', X)\n",
    "print('\\n')\n",
    "\n",
    "# We use Boolean indexing to select elements in X:\n",
    "print('The elements in X that are greater than 10:', X[X>10])\n",
    "print('The elements in X that are less than or equal to 7:', X[X<=7])\n",
    "print('The elements in X that are between 10 and 17:', X[(X>10) & (X < 17)])\n",
    "\n",
    "# We use Boolean indexing to assign the elements that are between 10 and 17 the value of -1\n",
    "X[(X > 10) & (X < 17)] = -1\n",
    "print('X = \\n', X)\n",
    "print('\\n')"
   ]
  },
  {
   "cell_type": "markdown",
   "metadata": {},
   "source": [
    "In addition to Boolean Indexing NumPy also allows for set operations. This useful when comparing ndarrays, for example, to find common elements between two ndarrays. Let's see some examples:"
   ]
  },
  {
   "cell_type": "code",
   "execution_count": 8,
   "metadata": {},
   "outputs": [
    {
     "name": "stdout",
     "output_type": "stream",
     "text": [
      "x =  [1 2 3 4 5]\n",
      "\n",
      "\n",
      "y =  [6 7 2 8 4]\n",
      "\n",
      "\n",
      "The elements that are in both and x and y: [2 4]\n",
      "The elements that are in x that are not in y: [1 3 5]\n",
      "All the elements of x and y: [1 2 3 4 5 6 7 8]\n",
      "\n",
      "\n"
     ]
    }
   ],
   "source": [
    "x = np.array([1,2,3,4,5])\n",
    "y = np.array([6,7,2,8,4])\n",
    "print('x = ', x)\n",
    "print('\\n')\n",
    "print('y = ', y)\n",
    "print('\\n')\n",
    "\n",
    "# We use se toperations to compare x and y:\n",
    "print('The elements that are in both and x and y:', np.intersect1d(x, y))\n",
    "print('The elements that are in x that are not in y:', np.setdiff1d(x, y))\n",
    "print('All the elements of x and y:', np.union1d(x, y))\n",
    "print('\\n')"
   ]
  },
  {
   "cell_type": "markdown",
   "metadata": {},
   "source": [
    "We can also sort ndarrays in NumPy. We will learn how to use the np.sort() function to sort rank 1 and rank 2 ndarrays in different ways. Like with other functions we saw before, the sort function can also be used as a method. However, there is a big difference on how the data is stored in memory in this case. When np.sort() is used as a function, it sorts the ndrrays out of place, meaning, that it doesn't change the original ndarray being sorted. However, when you use sort as a method, ndarray.sort() sorts the ndarray in place, meaning, that the original array will be changed to the sorted one. Let's see some examples:"
   ]
  },
  {
   "cell_type": "code",
   "execution_count": 10,
   "metadata": {},
   "outputs": [
    {
     "name": "stdout",
     "output_type": "stream",
     "text": [
      "Original x =  [10  2  2  7  9  4  5  9  9  3]\n",
      "\n",
      "\n",
      "Sorted x (out of place): [ 2  2  3  4  5  7  9  9  9 10]\n",
      "\n",
      "\n",
      "x after sorting:  [10  2  2  7  9  4  5  9  9  3]\n",
      "\n",
      "\n"
     ]
    }
   ],
   "source": [
    "x = np.random.randint(1, 11, size=(10, ))\n",
    "print('Original x = ', x)\n",
    "print('\\n')\n",
    "\n",
    "# We sort x and print sorted array using sort as a function\n",
    "print('Sorted x (out of place):', np.sort(x))\n",
    "print('\\n')\n",
    "\n",
    "# When we sort out of place the original array remains intact. To see this we print x again\n",
    "print('x after sorting: ', x)\n",
    "print('\\n')"
   ]
  },
  {
   "cell_type": "markdown",
   "metadata": {},
   "source": [
    "Notice that np.sort() sorts the array but, if the ndarray being sorted has repeated values, np.sort() leaves those values in the sorted array. However, if desired, we can sort only the unique elements in x by combining the sort function with the unique function. Let's see how we can sort the unique elements of x above:"
   ]
  },
  {
   "cell_type": "code",
   "execution_count": 12,
   "metadata": {},
   "outputs": [
    {
     "name": "stdout",
     "output_type": "stream",
     "text": [
      "[ 2  3  4  5  7  9 10]\n",
      "\n",
      "\n"
     ]
    }
   ],
   "source": [
    "print(np.sort(np.unique(x)))\n",
    "print('\\n')"
   ]
  },
  {
   "cell_type": "markdown",
   "metadata": {},
   "source": [
    "Finally, let's see how we can sort ndarrays in place, by using sort as a method:"
   ]
  },
  {
   "cell_type": "code",
   "execution_count": 14,
   "metadata": {},
   "outputs": [
    {
     "name": "stdout",
     "output_type": "stream",
     "text": [
      "Original x =  [ 7  5 10  1  2 10  4  7  1  3]\n",
      "x after sorting: [ 1  1  2  3  4  5  7  7 10 10]\n",
      "\n",
      "\n"
     ]
    }
   ],
   "source": [
    "x = np.random.randint(1,11,size=(10,))\n",
    "print('Original x = ', x)\n",
    "\n",
    "# We sort x and print the sorted array using sort as a method\n",
    "x.sort()\n",
    "\n",
    "# When we sort in place the original array is changed to the sorted array. To see this we print x again\n",
    "print('x after sorting:', x)\n",
    "print('\\n')"
   ]
  },
  {
   "cell_type": "markdown",
   "metadata": {},
   "source": [
    "When sorting rank 2 ndarrays, we need to specify to the np.sort() function whether we are sorting by rows or columns. This is done by using the axis keyword. Let's see some examples:"
   ]
  },
  {
   "cell_type": "code",
   "execution_count": 16,
   "metadata": {},
   "outputs": [
    {
     "name": "stdout",
     "output_type": "stream",
     "text": [
      "Original X = \n",
      " [[ 1  6  1 10  9]\n",
      " [ 4  5  2  2  5]\n",
      " [ 2  6  6  8  2]\n",
      " [ 8  2  2  1  4]\n",
      " [ 4  6  7  6  6]]\n",
      "\n",
      "\n",
      "X with sorted columns :\n",
      " [[ 1  2  1  1  2]\n",
      " [ 2  5  2  2  4]\n",
      " [ 4  6  2  6  5]\n",
      " [ 4  6  6  8  6]\n",
      " [ 8  6  7 10  9]]\n",
      "\n",
      "\n",
      "X with sorted rows :\n",
      " [[ 1  1  6  9 10]\n",
      " [ 2  2  4  5  5]\n",
      " [ 2  2  6  6  8]\n",
      " [ 1  2  2  4  8]\n",
      " [ 4  6  6  6  7]]\n",
      "\n",
      "\n"
     ]
    }
   ],
   "source": [
    "X = np.random.randint(1,11, size=(5,5))\n",
    "print('Original X = \\n', X)\n",
    "print('\\n')\n",
    "\n",
    "# We sort the columns of X and print the sorted array\n",
    "print('X with sorted columns :\\n', np.sort(X, axis=0))\n",
    "print('\\n')\n",
    "\n",
    "# We sort the rows of X and print the sorted array\n",
    "print('X with sorted rows :\\n', np.sort(X, axis=1))\n",
    "print('\\n')"
   ]
  },
  {
   "cell_type": "code",
   "execution_count": null,
   "metadata": {
    "collapsed": true
   },
   "outputs": [],
   "source": []
  }
 ],
 "metadata": {
  "kernelspec": {
   "display_name": "Python 3",
   "language": "python",
   "name": "python3"
  },
  "language_info": {
   "codemirror_mode": {
    "name": "ipython",
    "version": 3
   },
   "file_extension": ".py",
   "mimetype": "text/x-python",
   "name": "python",
   "nbconvert_exporter": "python",
   "pygments_lexer": "ipython3",
   "version": "3.6.3"
  }
 },
 "nbformat": 4,
 "nbformat_minor": 2
}
