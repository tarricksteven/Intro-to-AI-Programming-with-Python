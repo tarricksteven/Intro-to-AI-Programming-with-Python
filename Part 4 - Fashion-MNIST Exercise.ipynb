{
 "cells": [
  {
   "cell_type": "markdown",
   "metadata": {},
   "source": [
    "# Classifying Fashion-MNIST\n",
    "\n",
    "Now it's your turn to build a neural network. You'll be using the [Fashion-MNIST dataset](https://github.com/zalandoresearch/fashion-mnist), a drop-in replacement for the MNIST dataset. MNIST is actually quite trivial with neural networks where you can easily achieve better than 97% accuracy. Fashion-MNIST is a set of 28x28 greyscale images of clothes. It's more complex than MNIST, so it's a better representation of the actual performance of your network, and a better representation of datasets you'll use in the real world.\n",
    "\n",
    "<img src='assets/fashion-mnist-sprite.png' width=500px>\n",
    "\n",
    "In this notebook, you'll build your own neural network. For the most part, you could just copy and paste the code from Part 3, but you wouldn't be learning. It's important for you to write the code yourself and get it to work. Feel free to consult the previous notebook though as you work through this.\n",
    "\n",
    "First off, let's load the dataset through torchvision."
   ]
  },
  {
   "cell_type": "code",
   "execution_count": 1,
   "metadata": {},
   "outputs": [
    {
     "name": "stdout",
     "output_type": "stream",
     "text": [
      "Downloading http://fashion-mnist.s3-website.eu-central-1.amazonaws.com/train-images-idx3-ubyte.gz\n",
      "Downloading http://fashion-mnist.s3-website.eu-central-1.amazonaws.com/train-labels-idx1-ubyte.gz\n",
      "Downloading http://fashion-mnist.s3-website.eu-central-1.amazonaws.com/t10k-images-idx3-ubyte.gz\n",
      "Downloading http://fashion-mnist.s3-website.eu-central-1.amazonaws.com/t10k-labels-idx1-ubyte.gz\n",
      "Processing...\n",
      "Done!\n"
     ]
    }
   ],
   "source": [
    "import torch\n",
    "from torchvision import datasets, transforms\n",
    "import helper\n",
    "\n",
    "# Define a transform to normalize the data\n",
    "transform = transforms.Compose([transforms.ToTensor(),\n",
    "                                transforms.Normalize((0.5, 0.5, 0.5), (0.5, 0.5, 0.5))])\n",
    "# Download and load the training data\n",
    "trainset = datasets.FashionMNIST('F_MNIST_data/', download=True, train=True, transform=transform)\n",
    "trainloader = torch.utils.data.DataLoader(trainset, batch_size=64, shuffle=True)\n",
    "\n",
    "# Download and load the test data\n",
    "testset = datasets.FashionMNIST('F_MNIST_data/', download=True, train=False, transform=transform)\n",
    "testloader = torch.utils.data.DataLoader(testset, batch_size=64, shuffle=True)"
   ]
  },
  {
   "cell_type": "markdown",
   "metadata": {},
   "source": [
    "Here we can see one of the images."
   ]
  },
  {
   "cell_type": "code",
   "execution_count": 2,
   "metadata": {},
   "outputs": [
    {
     "data": {
      "image/png": "[encoded data removed]",
      "text/plain": [
       "<matplotlib.figure.Figure at 0x10a0d0828>"
      ]
     },
     "metadata": {},
     "output_type": "display_data"
    }
   ],
   "source": [
    "image, label = next(iter(trainloader))\n",
    "helper.imshow(image[0,:]);"
   ]
  },
  {
   "cell_type": "markdown",
   "metadata": {},
   "source": [
    "With the data loaded, it's time to import the necessary packages."
   ]
  },
  {
   "cell_type": "code",
   "execution_count": 3,
   "metadata": {},
   "outputs": [],
   "source": [
    "%matplotlib inline\n",
    "%config InlineBackend.figure_format = 'retina'\n",
    "\n",
    "import matplotlib.pyplot as plt\n",
    "import numpy as np\n",
    "import time\n",
    "\n",
    "import torch\n",
    "from torch import nn\n",
    "from torch import optim\n",
    "import torch.nn.functional as F\n",
    "from torch.autograd import Variable\n",
    "from torchvision import datasets, transforms\n",
    "\n",
    "import helper"
   ]
  },
  {
   "cell_type": "markdown",
   "metadata": {},
   "source": [
    "## Building the network\n",
    "\n",
    "Here you should define your network. As with MNIST, each image is 28x28 which is a total of 784 pixels, and there are 10 classes. You should include at least one hidden layer. We suggest you use ReLU activations for the layers and to return the logits from the forward pass. It's up to you how many layers you add and the size of those layers."
   ]
  },
  {
   "cell_type": "code",
   "execution_count": 6,
   "metadata": {},
   "outputs": [],
   "source": [
    "# TODO: Define your network architecture here\n",
    "class Network(nn.Module):\n",
    "    def __init__(self):\n",
    "        super().__init__()\n",
    "        \n",
    "        #Defining the layers\n",
    "        self.fc1 = nn.Linear(784, 196)\n",
    "        self.fc2 = nn.Linear(196, 49)\n",
    "        #Output layer, 10 units - one for each digit\n",
    "        self.fc3 = nn.Linear(49, 10)\n",
    "        \n",
    "    def forward(self, x):\n",
    "        '''Forward pass through the network, returns the output logits'''\n",
    "        \n",
    "        x = self.fc1(x)\n",
    "        x = F.relu(x)\n",
    "        x = self.fc2(x)\n",
    "        x = F.relu(x)\n",
    "        x = self.fc3(x)\n",
    "        \n",
    "        return x"
   ]
  },
  {
   "cell_type": "markdown",
   "metadata": {},
   "source": [
    "# Train the network\n",
    "\n",
    "Now you should create your network and train it. First you'll want to define [the criterion](http://pytorch.org/docs/master/nn.html#loss-functions) ( something like `nn.CrossEntropyLoss`) and [the optimizer](http://pytorch.org/docs/master/optim.html) (typically `optim.SGD` or `optim.Adam`).\n",
    "\n",
    "Then write the training code. Remember the training pass is a fairly straightforward process:\n",
    "\n",
    "* Make a forward pass through the network to get the logits \n",
    "* Use the logits to calculate the loss\n",
    "* Perform a backward pass through the network with `loss.backward()` to calculate the gradients\n",
    "* Take a step with the optimizer to update the weights\n",
    "\n",
    "By adjusting the hyperparameters (hidden units, learning rate, etc), you should be able to get the training loss below 0.4."
   ]
  },
  {
   "cell_type": "code",
   "execution_count": 10,
   "metadata": {},
   "outputs": [],
   "source": [
    "# TODO: Create the network, define the criterion and optimizer\n",
    "model = Network()\n",
    "criterion = nn.CrossEntropyLoss()\n",
    "optimizer = optim.SGD(model.parameters(), lr=0.005)"
   ]
  },
  {
   "cell_type": "code",
   "execution_count": 11,
   "metadata": {},
   "outputs": [
    {
     "name": "stderr",
     "output_type": "stream",
     "text": [
      "/anaconda3/lib/python3.6/site-packages/ipykernel_launcher.py:22: UserWarning: invalid index of a 0-dim tensor. This will be an error in PyTorch 0.5. Use tensor.item() to convert a 0-dim tensor to a Python number\n"
     ]
    },
    {
     "name": "stdout",
     "output_type": "stream",
     "text": [
      "Loss 2.272107\n",
      "Loss 2.211271\n",
      "Loss 2.140674\n",
      "Loss 2.068178\n",
      "Loss 1.964802\n",
      "Loss 1.856939\n",
      "Loss 1.736686\n",
      "Loss 1.580308\n",
      "Loss 1.479179\n",
      "Loss 1.381177\n",
      "Loss 1.284375\n",
      "Loss 1.191723\n",
      "Loss 1.126201\n",
      "Loss 1.073627\n",
      "Loss 0.999328\n",
      "Loss 0.981467\n",
      "Loss 0.952043\n",
      "Loss 0.898404\n",
      "Loss 0.891856\n",
      "Loss 0.857649\n",
      "Loss 0.834683\n",
      "Loss 0.831846\n",
      "Loss 0.815968\n",
      "Loss 0.431074\n",
      "Loss 0.759351\n",
      "Loss 0.755381\n",
      "Loss 0.728946\n",
      "Loss 0.746095\n",
      "Loss 0.725020\n",
      "Loss 0.743740\n",
      "Loss 0.720761\n",
      "Loss 0.689281\n",
      "Loss 0.694376\n",
      "Loss 0.711479\n",
      "Loss 0.668060\n",
      "Loss 0.693811\n",
      "Loss 0.645223\n",
      "Loss 0.623517\n",
      "Loss 0.655138\n",
      "Loss 0.629971\n",
      "Loss 0.663872\n",
      "Loss 0.644440\n",
      "Loss 0.627335\n",
      "Loss 0.633334\n",
      "Loss 0.628434\n",
      "Loss 0.620256\n",
      "Loss 0.060034\n",
      "Loss 0.624815\n",
      "Loss 0.579908\n",
      "Loss 0.581495\n",
      "Loss 0.606221\n",
      "Loss 0.599100\n",
      "Loss 0.625445\n",
      "Loss 0.601265\n",
      "Loss 0.589958\n",
      "Loss 0.561183\n",
      "Loss 0.566687\n",
      "Loss 0.598956\n",
      "Loss 0.572862\n",
      "Loss 0.565453\n",
      "Loss 0.617987\n",
      "Loss 0.576631\n",
      "Loss 0.568064\n",
      "Loss 0.563134\n",
      "Loss 0.584234\n",
      "Loss 0.559913\n",
      "Loss 0.545445\n",
      "Loss 0.545080\n",
      "Loss 0.571904\n",
      "Loss 0.540116\n",
      "Loss 0.352492\n",
      "Loss 0.570342\n",
      "Loss 0.553454\n",
      "Loss 0.531045\n",
      "Loss 0.572783\n",
      "Loss 0.521702\n",
      "Loss 0.526205\n",
      "Loss 0.524558\n",
      "Loss 0.545230\n",
      "Loss 0.542217\n",
      "Loss 0.519632\n",
      "Loss 0.514983\n",
      "Loss 0.532296\n",
      "Loss 0.533910\n",
      "Loss 0.536374\n",
      "Loss 0.514776\n",
      "Loss 0.529441\n",
      "Loss 0.519272\n",
      "Loss 0.502272\n",
      "Loss 0.518162\n",
      "Loss 0.529110\n",
      "Loss 0.476275\n",
      "Loss 0.519146\n"
     ]
    }
   ],
   "source": [
    "# TODO: Train the network here\n",
    "epochs = 4\n",
    "print_every = 40\n",
    "steps = 0\n",
    "\n",
    "for e in range(epochs):\n",
    "    running_loss = 0\n",
    "    for images, labels in trainloader:\n",
    "        steps += 1\n",
    "        \n",
    "        images.resize_(images.size()[0], 784)\n",
    "        \n",
    "        images, labels = Variable(images), Variable(labels)\n",
    "        \n",
    "        optimizer.zero_grad()\n",
    "        \n",
    "        logits = model.forward(images)\n",
    "        loss = criterion(logits, labels)\n",
    "        loss.backward()\n",
    "        optimizer.step()\n",
    "        \n",
    "        running_loss += loss.data[0]\n",
    "        \n",
    "        if steps % print_every == 0:\n",
    "            print(\"Loss {:4f}\".format(running_loss/print_every))\n",
    "            \n",
    "            running_loss = 0"
   ]
  },
  {
   "cell_type": "code",
   "execution_count": 13,
   "metadata": {},
   "outputs": [
    {
     "data": {
      "image/png": "[encoded data removed]",
      "text/plain": [
       "<matplotlib.figure.Figure at 0x115d61208>"
      ]
     },
     "metadata": {
      "image/png": {
       "height": 197,
       "width": 370
      }
     },
     "output_type": "display_data"
    }
   ],
   "source": [
    "# Test out your network!\n",
    "dataiter = iter(testloader)\n",
    "images, labels = dataiter.next()\n",
    "img = images[0]\n",
    "# Convert 2D image to 1D vector\n",
    "logits = model.forward(Variable(img.resize_(1, 784)))\n",
    "\n",
    "# TODO: Calculate the class probabilities (softmax) for img\n",
    "ps = F.softmax(logits, dim=1)\n",
    "\n",
    "# Plot the image and probabilities\n",
    "helper.view_classify(img.resize_(1, 28, 28), ps)"
   ]
  },
  {
   "cell_type": "markdown",
   "metadata": {},
   "source": [
    "Now that your network is trained, you'll want to save it to disk so you can load it later instead of training it again. Obviously, it's impractical to train a network every time you need one. In practice, you'll train it once, save the model, then reload it for further training or making predictions. In the next part, I'll show you how to save and load trained models."
   ]
  }
 ],
 "metadata": {
  "kernelspec": {
   "display_name": "Python 3",
   "language": "python",
   "name": "python3"
  },
  "language_info": {
   "codemirror_mode": {
    "name": "ipython",
    "version": 3
   },
   "file_extension": ".py",
   "mimetype": "text/x-python",
   "name": "python",
   "nbconvert_exporter": "python",
   "pygments_lexer": "ipython3",
   "version": "3.6.4"
  }
 },
 "nbformat": 4,
 "nbformat_minor": 2
}
